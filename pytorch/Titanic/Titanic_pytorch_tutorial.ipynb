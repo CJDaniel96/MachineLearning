{
 "cells": [
  {
   "cell_type": "code",
   "execution_count": 1,
   "id": "1be5678d",
   "metadata": {},
   "outputs": [],
   "source": [
    "import numpy as np\n",
    "import pandas as pd\n",
    "import seaborn as sns\n",
    "import matplotlib.pyplot as plt\n",
    "from collections import Counter\n",
    "from sklearn.utils import shuffle\n",
    "from sklearn.preprocessing import StandardScaler\n",
    "from sklearn.linear_model import LogisticRegression\n",
    "from sklearn.model_selection import train_test_split"
   ]
  },
  {
   "cell_type": "code",
   "execution_count": 2,
   "id": "01ee1221",
   "metadata": {},
   "outputs": [],
   "source": [
    "df_train = pd.read_csv('titanic/train.csv')\n",
    "df_test  = pd.read_csv('titanic/test.csv')\n",
    "df_sub   = pd.read_csv('titanic/gender_submission.csv')"
   ]
  },
  {
   "cell_type": "code",
   "execution_count": 3,
   "id": "8afe4f39",
   "metadata": {},
   "outputs": [],
   "source": [
    "df_train.drop(['Name','Ticket','Cabin'],axis=1,inplace=True)\n",
    "df_test.drop( ['Name','Ticket','Cabin'],axis=1,inplace=True)\n",
    "\n",
    "sex = pd.get_dummies(df_train['Sex'],drop_first=True)\n",
    "embark = pd.get_dummies(df_train['Embarked'],drop_first=True)\n",
    "df_train = pd.concat([df_train,sex,embark],axis=1)\n",
    "\n",
    "df_train.drop(['Sex','Embarked'],axis=1,inplace=True)\n",
    "\n",
    "sex = pd.get_dummies(df_test['Sex'],drop_first=True)\n",
    "embark = pd.get_dummies(df_test['Embarked'],drop_first=True)\n",
    "df_test = pd.concat([df_test,sex,embark],axis=1)\n",
    "\n",
    "df_test.drop(['Sex','Embarked'],axis=1,inplace=True)\n",
    "\n",
    "df_train.fillna(df_train.mean(),inplace=True)\n",
    "df_test.fillna(df_test.mean(),inplace=True)\n",
    "\n",
    "Scaler1 = StandardScaler()\n",
    "Scaler2 = StandardScaler()\n",
    "\n",
    "train_columns = df_train.columns\n",
    "test_columns  = df_test.columns\n",
    "\n",
    "df_train = pd.DataFrame(Scaler1.fit_transform(df_train))\n",
    "df_test  = pd.DataFrame(Scaler2.fit_transform(df_test))\n",
    "\n",
    "df_train.columns = train_columns\n",
    "df_test.columns  = test_columns\n",
    "\n",
    "features = df_train.iloc[:,2:].columns.tolist()\n",
    "target   = df_train.loc[:, 'Survived'].name\n",
    "\n",
    "X_train = df_train.iloc[:,2:].values\n",
    "y_train = df_train.loc[:, 'Survived'].values"
   ]
  },
  {
   "cell_type": "code",
   "execution_count": 4,
   "id": "7f277b74",
   "metadata": {},
   "outputs": [],
   "source": [
    "import torch\n",
    "import torch.nn as nn\n",
    "from torch.nn import functional as F\n",
    "from torch.autograd import Variable"
   ]
  },
  {
   "cell_type": "code",
   "execution_count": 5,
   "id": "506a7d15",
   "metadata": {},
   "outputs": [],
   "source": [
    "class Net(nn.Module):\n",
    "    def __init__(self):\n",
    "        super(Net, self).__init__()\n",
    "        self.fc1 = nn.Linear(8, 512)\n",
    "        self.fc2 = nn.Linear(512, 512)\n",
    "        self.fc3 = nn.Linear(512, 2)\n",
    "        self.dropout = nn.Dropout(0.2)\n",
    "        \n",
    "    def forward(self, x):\n",
    "        x = F.relu(self.fc1(x))\n",
    "        x = self.dropout(x)\n",
    "        x = F.relu(self.fc2(x))\n",
    "        x = self.dropout(x)\n",
    "        x = self.fc3(x)\n",
    "        return x"
   ]
  },
  {
   "cell_type": "code",
   "execution_count": 6,
   "id": "30cb91ce",
   "metadata": {},
   "outputs": [
    {
     "name": "stdout",
     "output_type": "stream",
     "text": [
      "Net(\n",
      "  (fc1): Linear(in_features=8, out_features=512, bias=True)\n",
      "  (fc2): Linear(in_features=512, out_features=512, bias=True)\n",
      "  (fc3): Linear(in_features=512, out_features=2, bias=True)\n",
      "  (dropout): Dropout(p=0.2, inplace=False)\n",
      ")\n"
     ]
    }
   ],
   "source": [
    "model = Net()\n",
    "print(model)"
   ]
  },
  {
   "cell_type": "code",
   "execution_count": 7,
   "id": "a27d05a4",
   "metadata": {},
   "outputs": [],
   "source": [
    "criterion = nn.CrossEntropyLoss()\n",
    "optimizer = torch.optim.SGD(model.parameters(), lr=0.01)"
   ]
  },
  {
   "cell_type": "code",
   "execution_count": 8,
   "id": "d6cd7e7f",
   "metadata": {},
   "outputs": [
    {
     "name": "stdout",
     "output_type": "stream",
     "text": [
      "Validation loss decreased (   inf ===> 0.631237). Saving the model...\n",
      "\n",
      "Epoch: 1 \tTrain Loss: 0.6312374410404501 \tTrain Accuracy: 0.0\n",
      "Validation loss decreased (0.631237 ===> 0.583345). Saving the model...\n",
      "Validation loss decreased (0.583345 ===> 0.549474). Saving the model...\n",
      "Validation loss decreased (0.549474 ===> 0.522003). Saving the model...\n",
      "Validation loss decreased (0.522003 ===> 0.502615). Saving the model...\n",
      "Validation loss decreased (0.502615 ===> 0.484334). Saving the model...\n",
      "Validation loss decreased (0.484334 ===> 0.470328). Saving the model...\n",
      "Validation loss decreased (0.470328 ===> 0.458023). Saving the model...\n",
      "Validation loss decreased (0.458023 ===> 0.448005). Saving the model...\n",
      "Validation loss decreased (0.448005 ===> 0.442018). Saving the model...\n",
      "Validation loss decreased (0.442018 ===> 0.430441). Saving the model...\n",
      "Validation loss decreased (0.430441 ===> 0.429012). Saving the model...\n",
      "Validation loss decreased (0.429012 ===> 0.424262). Saving the model...\n",
      "Validation loss decreased (0.424262 ===> 0.419377). Saving the model...\n",
      "Validation loss decreased (0.419377 ===> 0.415875). Saving the model...\n",
      "Validation loss decreased (0.415875 ===> 0.413763). Saving the model...\n",
      "Validation loss decreased (0.413763 ===> 0.410104). Saving the model...\n",
      "Validation loss decreased (0.410104 ===> 0.407697). Saving the model...\n",
      "Validation loss decreased (0.407697 ===> 0.406000). Saving the model...\n",
      "Validation loss decreased (0.406000 ===> 0.403820). Saving the model...\n",
      "Validation loss decreased (0.403820 ===> 0.403504). Saving the model...\n",
      "Validation loss decreased (0.403504 ===> 0.395540). Saving the model...\n",
      "Validation loss decreased (0.395540 ===> 0.393990). Saving the model...\n",
      "Validation loss decreased (0.393990 ===> 0.391160). Saving the model...\n",
      "Validation loss decreased (0.391160 ===> 0.389207). Saving the model...\n",
      "Validation loss decreased (0.389207 ===> 0.389021). Saving the model...\n",
      "Validation loss decreased (0.389021 ===> 0.386353). Saving the model...\n",
      "Validation loss decreased (0.386353 ===> 0.385823). Saving the model...\n",
      "Validation loss decreased (0.385823 ===> 0.382706). Saving the model...\n",
      "Validation loss decreased (0.382706 ===> 0.378097). Saving the model...\n",
      "Validation loss decreased (0.378097 ===> 0.376801). Saving the model...\n",
      "Validation loss decreased (0.376801 ===> 0.369852). Saving the model...\n",
      "Validation loss decreased (0.369852 ===> 0.368615). Saving the model...\n",
      "Validation loss decreased (0.368615 ===> 0.365305). Saving the model...\n",
      "Validation loss decreased (0.365305 ===> 0.363905). Saving the model...\n",
      "Validation loss decreased (0.363905 ===> 0.363889). Saving the model...\n",
      "Validation loss decreased (0.363889 ===> 0.361222). Saving the model...\n",
      "\n",
      "Epoch: 201 \tTrain Loss: 0.36630396354001665 \tTrain Accuracy: 0.0\n",
      "Validation loss decreased (0.361222 ===> 0.359946). Saving the model...\n",
      "Validation loss decreased (0.359946 ===> 0.355315). Saving the model...\n",
      "Validation loss decreased (0.355315 ===> 0.351467). Saving the model...\n",
      "Validation loss decreased (0.351467 ===> 0.348646). Saving the model...\n",
      "Validation loss decreased (0.348646 ===> 0.345160). Saving the model...\n",
      "\n",
      "Epoch: 401 \tTrain Loss: 0.3540918673208839 \tTrain Accuracy: 0.0\n",
      "Validation loss decreased (0.345160 ===> 0.343031). Saving the model...\n",
      "Validation loss decreased (0.343031 ===> 0.342827). Saving the model...\n",
      "Validation loss decreased (0.342827 ===> 0.341941). Saving the model...\n",
      "Validation loss decreased (0.341941 ===> 0.338910). Saving the model...\n",
      "Validation loss decreased (0.338910 ===> 0.336967). Saving the model...\n",
      "Training Ended! \n"
     ]
    }
   ],
   "source": [
    "batch_size = 64\n",
    "n_epochs = 500\n",
    "batch_no = len(X_train) // batch_size\n",
    "\n",
    "train_loss = 0\n",
    "train_loss_min = np.Inf\n",
    "for epoch in range(n_epochs):\n",
    "    for i in range(batch_no):\n",
    "        start = i*batch_size\n",
    "        end = start+batch_size\n",
    "        x_var = Variable(torch.FloatTensor(X_train[start:end]))\n",
    "        y_var = Variable(torch.LongTensor(y_train[start:end])) \n",
    "        \n",
    "        optimizer.zero_grad()\n",
    "        output = model(x_var)\n",
    "        loss = criterion(output,y_var)\n",
    "        loss.backward()\n",
    "        optimizer.step()\n",
    "        \n",
    "        values, labels = torch.max(output, 1)\n",
    "        num_right = np.sum(labels.data.numpy() == y_train[start:end])\n",
    "        train_loss += loss.item()*batch_size\n",
    "    \n",
    "    train_loss = train_loss / len(X_train)\n",
    "    if train_loss <= train_loss_min:\n",
    "        print(\"Validation loss decreased ({:6f} ===> {:6f}). Saving the model...\".format(train_loss_min,train_loss))\n",
    "        torch.save(model.state_dict(), \"model.pt\")\n",
    "        train_loss_min = train_loss\n",
    "    \n",
    "    if epoch % 200 == 0:\n",
    "        print('')\n",
    "        print(\"Epoch: {} \\tTrain Loss: {} \\tTrain Accuracy: {}\".format(epoch+1, train_loss,num_right / len(y_train[start:end]) ))\n",
    "print('Training Ended! ')"
   ]
  },
  {
   "cell_type": "code",
   "execution_count": 9,
   "id": "ee0d32f9",
   "metadata": {},
   "outputs": [],
   "source": [
    "X_test = df_test.iloc[:,1:].values\n",
    "X_test_var = Variable(torch.FloatTensor(X_test), requires_grad=False) \n",
    "with torch.no_grad():\n",
    "    test_result = model(X_test_var)\n",
    "values, labels = torch.max(test_result, 1)\n",
    "survived = labels.data.numpy()"
   ]
  },
  {
   "cell_type": "code",
   "execution_count": 10,
   "id": "ee4b757c",
   "metadata": {},
   "outputs": [],
   "source": [
    "submission = pd.DataFrame({'PassengerId': df_sub['PassengerId'], 'Survived': survived})\n",
    "submission.to_csv('submission.csv', index=False)"
   ]
  },
  {
   "cell_type": "code",
   "execution_count": null,
   "id": "7cdd3c6b",
   "metadata": {},
   "outputs": [],
   "source": []
  }
 ],
 "metadata": {
  "kernelspec": {
   "display_name": "Python 3",
   "language": "python",
   "name": "python3"
  },
  "language_info": {
   "codemirror_mode": {
    "name": "ipython",
    "version": 3
   },
   "file_extension": ".py",
   "mimetype": "text/x-python",
   "name": "python",
   "nbconvert_exporter": "python",
   "pygments_lexer": "ipython3",
   "version": "3.7.10"
  }
 },
 "nbformat": 4,
 "nbformat_minor": 5
}
